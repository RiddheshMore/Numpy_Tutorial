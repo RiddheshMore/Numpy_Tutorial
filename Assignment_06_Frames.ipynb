{
 "cells": [
  {
   "cell_type": "markdown",
   "id": "03415cb2",
   "metadata": {
    "deletable": false,
    "editable": false,
    "nbassignment": {
     "type": "header"
    },
    "nbgrader": {
     "cell_type": "markdown",
     "checksum": "fdefd62fc826f77414b58d875aad1347",
     "grade": false,
     "grade_id": "HeaderA",
     "locked": true,
     "schema_version": 3,
     "solution": false,
     "task": false
    }
   },
   "source": [
    "<div class=\"alert alert-block alert-info\">\n",
    "    <h1>Mathematics for Robotics and Control - SS24</h1>\n",
    "    <h3>General Information:</h3>\n",
    "    <p>Please do not add or delete any cells. Answers belong into the corresponding cells (below the question). If a function is given (either as a signature or a full function), you <b>should not change the name, arguments or return value</b> of the function.</p>\n",
    "    <p>If you encounter empty cells underneath the answer that can not be edited, please ignore them, they are for testing purposes.</p>\n",
    "    <p>When editing an assignment there can be the case that there are variables in the kernel. To make sure your assignment works, please restart the kernel and run all cells before submitting (e.g. via <i>Kernel -> Restart & Run All</i>).</p>\n",
    "    <p>Code cells where you are supposed to give your answer often include the line  <code>raise NotImplementedError</code>. This makes it easier to automatically grade answers. If you edit the cell please outcomment or delete this line.</p>\n",
    "    <h3>Submission:</h3>\n",
    "    <p>Please submit your notebook via the web interface (in the main view -> Assignments -> Submit). The assignments are due on <b>Sunday</b> at <b> 20:00 </b> CEST.</p>\n",
    "    <h3>Group Work:</h3>\n",
    "    <p>Group work is allowed! If you are working in a group, please write your student IDs (ending with -2s) in the designated cell below.</p>\n",
    "    <h3>Questions about the Assignment:</h3>\n",
    "    <p>If you have questions about the assignment please post them in the LEA forum before the deadline.</p>\n",
    "    \n",
    "</div>"
   ]
  },
  {
   "cell_type": "code",
   "execution_count": 1,
   "id": "0f243861",
   "metadata": {
    "ExecuteTime": {
     "end_time": "2024-11-17T14:03:28.458544Z",
     "start_time": "2024-11-17T14:03:28.449074Z"
    },
    "nbassignment": {
     "type": "group_info"
    }
   },
   "outputs": [],
   "source": [
    "# Please fill in the usernames of all your team members\n",
    "\n",
    "member1 = 'snakhy2s'\n",
    "member2 = ''"
   ]
  },
  {
   "cell_type": "markdown",
   "id": "1a70f285",
   "metadata": {
    "deletable": false,
    "editable": false,
    "nbgrader": {
     "cell_type": "markdown",
     "checksum": "3ae0bd47e7ff72f69e8eb3afa01fc587",
     "grade": false,
     "grade_id": "taskheader_1",
     "locked": true,
     "schema_version": 3,
     "solution": false,
     "task": false
    }
   },
   "source": [
    "# Task 1\n",
    "\n",
    "**[20 Point(s)]**"
   ]
  },
  {
   "cell_type": "markdown",
   "id": "05e53184",
   "metadata": {
    "deletable": false,
    "editable": false,
    "nbgrader": {
     "cell_type": "markdown",
     "checksum": "277f22e4d329470c4a60fbd9387805ae",
     "grade": false,
     "grade_id": "LucyHandOverTheBottle_ALucyHandOverTheBottle_B_Header",
     "locked": true,
     "schema_version": 3,
     "solution": false,
     "task": false
    }
   },
   "source": [
    "## Warmup Exercise\n",
    "\n",
    "As a warmup exercise, implement the following functions, which return:\n",
    "\n",
    "* The rotation matrices $R_X$, $R_Y$ and $R_Z$ along $X$, $Y$ and $Z$ respectively.\n",
    "* A homogeneous transformation matrix $T$, given Euler rotation angles and a translation vector.\n"
   ]
  },
  {
   "cell_type": "markdown",
   "id": "dbfb4769",
   "metadata": {
    "deletable": false,
    "editable": false,
    "nbgrader": {
     "cell_type": "markdown",
     "checksum": "891a6efe4726f94b17000853960c5d8f",
     "grade": false,
     "grade_id": "taskheader_1_1",
     "locked": true,
     "schema_version": 3,
     "solution": false,
     "task": false
    }
   },
   "source": [
    "## Task 1.1\n",
    "\n",
    "**[5 Point(s)]**"
   ]
  },
  {
   "cell_type": "markdown",
   "id": "27ad8b64",
   "metadata": {
    "deletable": false,
    "editable": false,
    "nbgrader": {
     "cell_type": "markdown",
     "checksum": "20646b273a2edaa678ce8b3fa7aa4fe9",
     "grade": false,
     "grade_id": "LucyHandOverTheBottle_A_Description0",
     "locked": true,
     "schema_version": 3,
     "solution": false,
     "task": false
    }
   },
   "source": [
    "In the subsequent exercise, please use the functions you implemented."
   ]
  },
  {
   "cell_type": "code",
   "execution_count": 2,
   "id": "28ec06b5",
   "metadata": {
    "ExecuteTime": {
     "end_time": "2024-11-17T14:25:49.509207Z",
     "start_time": "2024-11-17T14:25:49.490517Z"
    },
    "deletable": false,
    "nbgrader": {
     "cell_type": "code",
     "checksum": "c732ec06f5ac4cc6bfc6ac61a0a95810",
     "grade": false,
     "grade_id": "LucyHandOverTheBottle_A",
     "locked": false,
     "schema_version": 3,
     "solution": true,
     "task": false
    }
   },
   "outputs": [
    {
     "name": "stdout",
     "output_type": "stream",
     "text": [
      "[[ 0.8660254 -0.5        0.        10.       ]\n",
      " [ 0.5        0.8660254  0.         5.       ]\n",
      " [ 0.         0.         1.         0.       ]\n",
      " [ 0.         0.         0.         1.       ]]\n"
     ]
    }
   ],
   "source": [
    "from typing import Sequence\n",
    "import numpy as np\n",
    "import numpy.linalg as linalg\n",
    "import matplotlib.pyplot as plt\n",
    "\n",
    "from IPython.core.pylabtools import figsize, getfigs\n",
    "\n",
    "def get_RX(theta: float) -> np.ndarray:\n",
    "    '''Returns a matrix of a frame rotated about X.\n",
    "\n",
    "    Keyword arguments:\n",
    "    theta: float -- rotation angle in radians\n",
    "\n",
    "    '''\n",
    "    # YOUR CODE HERE\n",
    "    #theta = np.radians(theta)\n",
    "    RX = np.array([[1,0,0],\n",
    "                   [0, np.cos(theta), -np.sin(theta)],\n",
    "                   [0,np.sin(theta), np.cos(theta)]])\n",
    "    return RX\n",
    "\n",
    "def get_RY(theta: float) -> np.ndarray:\n",
    "    '''Returns a matrix of a frame rotated about Y.\n",
    "\n",
    "    Keyword arguments:\n",
    "    theta: float -- rotation angle in radians\n",
    "\n",
    "    '''\n",
    "    # YOUR CODE HERE\n",
    "    RY = np.array([[np.cos(theta),0, np.sin(theta)],\n",
    "                   [0, 1, 0],\n",
    "                   [-np.sin(theta), 0, np.cos(theta)]])\n",
    "    return RY\n",
    "\n",
    "def get_RZ(theta: float) -> np.ndarray:\n",
    "    '''Returns a matrix of a frame rotated about Z.\n",
    "\n",
    "    Keyword arguments:\n",
    "    theta: float -- rotation angle in radians\n",
    "\n",
    "    '''\n",
    "    # YOUR CODE HERE\n",
    "    RZ = np.array([[np.cos(theta), -np.sin(theta), 0],\n",
    "                   [np.sin(theta), np.cos(theta), 0],\n",
    "                   [0, 0, 1]])\n",
    "    return RZ\n",
    "    \n",
    "def get_homogeneous_transform(rotation_angles: Sequence[float],\n",
    "                              translation: Sequence[float]) -> np.ndarray:\n",
    "    '''Returns a homogenous transformation matrix describing\n",
    "    the pose of one frame relative to another frame.\n",
    "\n",
    "    Keyword arguments:\n",
    "    rotation_angles: Sequence[float] -- rotation angles (in degrees) in the order [z, y, x]\n",
    "    translation: Sequence[float] -- translation (in meters) in the order [x, y, z]\n",
    "\n",
    "    '''\n",
    "    # YOUR CODE HERE\n",
    "    T = get_RZ(np.radians(rotation_angles[0])).dot(get_RY(np.radians(rotation_angles[1]))).dot(get_RX(np.radians(rotation_angles[2])))\n",
    "    translation = np.array(translation)[np.newaxis].T\n",
    "    T = np.hstack((T,translation))\n",
    "    T = np.vstack((T, np.array([0,0,0,1])))\n",
    "    return T\n",
    "Answer = get_homogeneous_transform([30,0,0],[10, 5, 0])\n",
    "print(Answer)\n",
    "    "
   ]
  },
  {
   "cell_type": "code",
   "execution_count": 3,
   "id": "7582a4c1",
   "metadata": {
    "ExecuteTime": {
     "end_time": "2024-11-17T14:25:49.676221Z",
     "start_time": "2024-11-17T14:25:49.669100Z"
    },
    "deletable": false,
    "editable": false,
    "nbgrader": {
     "cell_type": "code",
     "checksum": "5fe43baae81488850ea60967508fb93b",
     "grade": true,
     "grade_id": "test_LucyHandOverTheBottle_A0",
     "locked": true,
     "points": 5,
     "schema_version": 3,
     "solution": false,
     "task": false
    }
   },
   "outputs": [],
   "source": [
    "# This cell contains automated tests for your solution\n"
   ]
  },
  {
   "cell_type": "markdown",
   "id": "493bb713",
   "metadata": {
    "deletable": false,
    "editable": false,
    "nbgrader": {
     "cell_type": "markdown",
     "checksum": "4a714b1bbc01a3efb46029ad75bdfe21",
     "grade": false,
     "grade_id": "taskheader_1_2",
     "locked": true,
     "schema_version": 3,
     "solution": false,
     "task": false
    }
   },
   "source": [
    "## Task 1.2\n",
    "\n",
    "**[15 Point(s)]**"
   ]
  },
  {
   "cell_type": "markdown",
   "id": "d3bcb946",
   "metadata": {
    "deletable": false,
    "editable": false,
    "nbgrader": {
     "cell_type": "markdown",
     "checksum": "2dd2296cdef84a2d9dd4ab8b82866d05",
     "grade": false,
     "grade_id": "LucyHandOverTheBottle_B_Description0",
     "locked": true,
     "schema_version": 3,
     "solution": false,
     "task": false
    }
   },
   "source": [
    "## Lucy, Hand Over the Bottle! \n",
    "\n",
    "Assume that Lucy has to hand over a water bottle to Ahmed (a senior MAS student). Lucy uses a gesture recognition module for finding the pose of Ahmed's hand $\\{H\\}$ relative to the camera frame $\\{C \\}$. The module reports that, relative to frame $\\{C\\}$, Ahmed's hand is located at $(-0.1,$ $0.2,$ $1.3)$ meters in $X, Y$ and $Z$, respectively, and is rotated by $90.0^o$ about $Z$, $72.85^o$ about $Y$, and $180.0^o$ about $X$. This information corresponds to the transform ${}^C_HT$.\n",
    "\n",
    "The pose of the camera relative to the robot's base, denoted by ${}^B_CT$, is located $(0.02,$ $0.0,$ $1.2)$ meters away from the base frame and is rotated $-90.0^o$ about $Z$ and $-107.15^o$ about $X$. Furthermore, using the robot's kinematics, we can calculate ${}^B_GT$, the transform describing the frame of the manipulator's end-effector $\\{G\\}$ relative to the base frame $\\{B\\}$; this is given by a translation of $(0.7,$ $0.078,$ $0.7)$ meters in $X, Y$, and $Z$ respectively and a rotation of $-180.0^o$ about $Z$ and $-90.0^o$ about $Y$.\n",
    "\n",
    "For handing over the bottle, the robot needs to know the position and orientation of Ahmed's hand with respect to its end-effector. Your task is to calculate the pose of Ahmed's hand relative to the manipulator's end-effector, namely compute ${}^G_HT$. The following figure shows a description of the frames involved.\n",
    "\n",
    "![Lucy Handover](Assignment_06_Frames_files/img/lucy_handover.png) \n",
    "\n",
    "Calculate ${}^G_HT$ by completing the following cell. [Please keep the variable names as it is]"
   ]
  },
  {
   "cell_type": "code",
   "execution_count": 4,
   "id": "074155de",
   "metadata": {
    "ExecuteTime": {
     "end_time": "2024-11-17T14:25:50.320405Z",
     "start_time": "2024-11-17T14:25:50.300163Z"
    },
    "deletable": false,
    "nbgrader": {
     "cell_type": "code",
     "checksum": "f2da836d4ec5b6ad8d07f4a615a110a7",
     "grade": false,
     "grade_id": "LucyHandOverTheBottle_B",
     "locked": false,
     "schema_version": 3,
     "solution": true,
     "task": false
    }
   },
   "outputs": [
    {
     "name": "stdout",
     "output_type": "stream",
     "text": [
      "Transformation of H with respect to G\n",
      "[[-1.05301114e-16 -6.39549715e-17  1.00000000e+00 -7.44438004e-02]\n",
      " [-4.31764966e-17  1.00000000e+00  6.39549715e-17 -2.20000000e-02]\n",
      " [-1.00000000e+00 -4.31764966e-17 -1.05301114e-16  5.03222008e-01]\n",
      " [ 0.00000000e+00  0.00000000e+00  0.00000000e+00  1.00000000e+00]]\n"
     ]
    }
   ],
   "source": [
    "# Please assign the transformation of Ahmed's hand with respect to \n",
    "# Lucy's gripper to T_of_H_relative_G\n",
    "T_of_H_relative_G = None\n",
    "\n",
    "# YOUR CODE HERE\n",
    "T_C_B = get_homogeneous_transform([-90, 0, -107.15],[0.02,0.0,1.2])\n",
    "T_H_C = get_homogeneous_transform([90, 72.85, 180],[-0.1,0.2,1.3])\n",
    "T_G_B = get_homogeneous_transform([-180, -90, 0],[0.7,0.078,0.7])\n",
    "T_H_B = T_C_B.dot(T_H_C)\n",
    "T_of_H_relative_G = np.linalg.inv(T_G_B).dot(T_H_B)\n",
    "\n",
    "print(\"Transformation of H with respect to G\")\n",
    "print(T_of_H_relative_G)"
   ]
  },
  {
   "cell_type": "code",
   "execution_count": 5,
   "id": "405b6d5f",
   "metadata": {
    "ExecuteTime": {
     "end_time": "2024-11-17T14:25:50.489913Z",
     "start_time": "2024-11-17T14:25:50.483591Z"
    },
    "deletable": false,
    "editable": false,
    "nbgrader": {
     "cell_type": "code",
     "checksum": "2d95089aa7b1a9bb347493cac74afd6f",
     "grade": true,
     "grade_id": "test_LucyHandOverTheBottle_B0",
     "locked": true,
     "points": 15,
     "schema_version": 3,
     "solution": false,
     "task": false
    }
   },
   "outputs": [],
   "source": [
    "# This cell contains automated tests for your solution\n"
   ]
  },
  {
   "cell_type": "markdown",
   "id": "65975d28",
   "metadata": {
    "deletable": false,
    "editable": false,
    "nbgrader": {
     "cell_type": "markdown",
     "checksum": "6de9cdf6d03466cf69da4dbfbd7f8005",
     "grade": false,
     "grade_id": "taskheader_2",
     "locked": true,
     "schema_version": 3,
     "solution": false,
     "task": false
    }
   },
   "source": [
    "# Task 2\n",
    "\n",
    "**[20 Point(s)]**"
   ]
  },
  {
   "cell_type": "markdown",
   "id": "116a3b21",
   "metadata": {
    "deletable": false,
    "editable": false,
    "nbgrader": {
     "cell_type": "markdown",
     "checksum": "74e34800eb4ddf21d37dceae05babc2e",
     "grade": false,
     "grade_id": "AutonomousDriving_A_Header",
     "locked": true,
     "schema_version": 3,
     "solution": false,
     "task": false
    }
   },
   "source": [
    "## Autonomous Driving\n",
    "\n",
    "In this task, we will combine and visualize the data from a Velodyne LiDAR and an RGB camera of an autonomous car. The LiDAR $\\{L \\}$ is translated by $(-0.3,$ $0.0,$ $0.87)$ meters in $X, Y$ and $Z$, respectively, from the base of the car $\\{B \\}$. Relative to this base frame, we also have the camera $\\{C \\}$ at $(-0.027,$ $0.0,$ $0.8)$ meters in $X, Y$ and $Z$, respectively, and rotated by $-89.5^o$ about $Z$ and $-89^o$ about $X$.\n",
    "![Driveless](Assignment_06_Frames_files/img/driveless_car.png)\n",
    "\n",
    "The LiDAR generates point cloud data which contains the $X$, $Y$ and $Z$ values of the environment in front of the car. The camera captures the image of the same environment. Your task is to visualize the LiDAR data as a 2D image.\n",
    "\n",
    "The transformation of 3D points to a 2D image requires the information of the camera's intrinsic parameter. The calculation of this transformation is shown in the figure below. The intrinsic parameter are as follows:\n",
    "- Focal length $(f_x$, $f_y)$ = $(721.54$, $721.54)$\n",
    "- Camera center $(c_x$, $c_y)$ = $(609.56$, $172.85)$\n",
    "\n"
   ]
  },
  {
   "cell_type": "markdown",
   "id": "3189b833",
   "metadata": {
    "deletable": false,
    "editable": false,
    "nbgrader": {
     "cell_type": "markdown",
     "checksum": "78e00a416e9ba4d7564c36beda0934e4",
     "grade": false,
     "grade_id": "AutonomousDriving_A_Description0",
     "locked": true,
     "schema_version": 3,
     "solution": false,
     "task": false
    }
   },
   "source": [
    "After conversion to the image plane, the transformed points must be in homogeneous form, which can be obtained by dividing every vector by its last coordinate value; this would result in 2D vectors of the form $[x, y, 1]^T$.\n",
    "\n",
    "![Transformations](Assignment_06_Frames_files/img/Vel2Cam.png) "
   ]
  },
  {
   "cell_type": "code",
   "execution_count": null,
   "id": "8efb3171",
   "metadata": {
    "ExecuteTime": {
     "end_time": "2024-11-17T14:25:51.516326Z",
     "start_time": "2024-11-17T14:25:51.441756Z"
    },
    "deletable": false,
    "nbgrader": {
     "cell_type": "code",
     "checksum": "1d53e77cac39a622bc1932463ed50bd4",
     "grade": false,
     "grade_id": "AutonomousDriving_A",
     "locked": false,
     "schema_version": 3,
     "solution": true,
     "task": false
    }
   },
   "outputs": [
    {
     "ename": "FileNotFoundError",
     "evalue": "Assignment_06_Frames_files/data/point_cloud.txt not found.",
     "output_type": "error",
     "traceback": [
      "\u001b[0;31m---------------------------------------------------------------------------\u001b[0m",
      "\u001b[0;31mFileNotFoundError\u001b[0m                         Traceback (most recent call last)",
      "Cell \u001b[0;32mIn[6], line 6\u001b[0m\n\u001b[1;32m      3\u001b[0m \u001b[38;5;28;01mimport\u001b[39;00m \u001b[38;5;21;01mnumpy\u001b[39;00m\u001b[38;5;21;01m.\u001b[39;00m\u001b[38;5;21;01mlinalg\u001b[39;00m \u001b[38;5;28;01mas\u001b[39;00m \u001b[38;5;21;01mlinalg\u001b[39;00m\n\u001b[1;32m      4\u001b[0m \u001b[38;5;28;01mimport\u001b[39;00m \u001b[38;5;21;01mmatplotlib\u001b[39;00m\u001b[38;5;21;01m.\u001b[39;00m\u001b[38;5;21;01mpyplot\u001b[39;00m \u001b[38;5;28;01mas\u001b[39;00m \u001b[38;5;21;01mplt\u001b[39;00m\n\u001b[0;32m----> 6\u001b[0m point_cloud \u001b[38;5;241m=\u001b[39m \u001b[43mnp\u001b[49m\u001b[38;5;241;43m.\u001b[39;49m\u001b[43mloadtxt\u001b[49m\u001b[43m(\u001b[49m\u001b[38;5;124;43m\"\u001b[39;49m\u001b[38;5;124;43mAssignment_06_Frames_files/data/point_cloud.txt\u001b[39;49m\u001b[38;5;124;43m\"\u001b[39;49m\u001b[43m)\u001b[49m\n\u001b[1;32m      8\u001b[0m \u001b[38;5;66;03m# Please assign the transformation of the LiDAR relative to the camera to T_L_C\u001b[39;00m\n\u001b[1;32m      9\u001b[0m T_of_L_relative_C \u001b[38;5;241m=\u001b[39m \u001b[38;5;28;01mNone\u001b[39;00m\n",
      "File \u001b[0;32m/opt/anaconda3/envs/mrc/lib/python3.13/site-packages/numpy/lib/_npyio_impl.py:1397\u001b[0m, in \u001b[0;36mloadtxt\u001b[0;34m(fname, dtype, comments, delimiter, converters, skiprows, usecols, unpack, ndmin, encoding, max_rows, quotechar, like)\u001b[0m\n\u001b[1;32m   1394\u001b[0m \u001b[38;5;28;01mif\u001b[39;00m \u001b[38;5;28misinstance\u001b[39m(delimiter, \u001b[38;5;28mbytes\u001b[39m):\n\u001b[1;32m   1395\u001b[0m     delimiter \u001b[38;5;241m=\u001b[39m delimiter\u001b[38;5;241m.\u001b[39mdecode(\u001b[38;5;124m'\u001b[39m\u001b[38;5;124mlatin1\u001b[39m\u001b[38;5;124m'\u001b[39m)\n\u001b[0;32m-> 1397\u001b[0m arr \u001b[38;5;241m=\u001b[39m \u001b[43m_read\u001b[49m\u001b[43m(\u001b[49m\u001b[43mfname\u001b[49m\u001b[43m,\u001b[49m\u001b[43m \u001b[49m\u001b[43mdtype\u001b[49m\u001b[38;5;241;43m=\u001b[39;49m\u001b[43mdtype\u001b[49m\u001b[43m,\u001b[49m\u001b[43m \u001b[49m\u001b[43mcomment\u001b[49m\u001b[38;5;241;43m=\u001b[39;49m\u001b[43mcomment\u001b[49m\u001b[43m,\u001b[49m\u001b[43m \u001b[49m\u001b[43mdelimiter\u001b[49m\u001b[38;5;241;43m=\u001b[39;49m\u001b[43mdelimiter\u001b[49m\u001b[43m,\u001b[49m\n\u001b[1;32m   1398\u001b[0m \u001b[43m            \u001b[49m\u001b[43mconverters\u001b[49m\u001b[38;5;241;43m=\u001b[39;49m\u001b[43mconverters\u001b[49m\u001b[43m,\u001b[49m\u001b[43m \u001b[49m\u001b[43mskiplines\u001b[49m\u001b[38;5;241;43m=\u001b[39;49m\u001b[43mskiprows\u001b[49m\u001b[43m,\u001b[49m\u001b[43m \u001b[49m\u001b[43musecols\u001b[49m\u001b[38;5;241;43m=\u001b[39;49m\u001b[43musecols\u001b[49m\u001b[43m,\u001b[49m\n\u001b[1;32m   1399\u001b[0m \u001b[43m            \u001b[49m\u001b[43munpack\u001b[49m\u001b[38;5;241;43m=\u001b[39;49m\u001b[43munpack\u001b[49m\u001b[43m,\u001b[49m\u001b[43m \u001b[49m\u001b[43mndmin\u001b[49m\u001b[38;5;241;43m=\u001b[39;49m\u001b[43mndmin\u001b[49m\u001b[43m,\u001b[49m\u001b[43m \u001b[49m\u001b[43mencoding\u001b[49m\u001b[38;5;241;43m=\u001b[39;49m\u001b[43mencoding\u001b[49m\u001b[43m,\u001b[49m\n\u001b[1;32m   1400\u001b[0m \u001b[43m            \u001b[49m\u001b[43mmax_rows\u001b[49m\u001b[38;5;241;43m=\u001b[39;49m\u001b[43mmax_rows\u001b[49m\u001b[43m,\u001b[49m\u001b[43m \u001b[49m\u001b[43mquote\u001b[49m\u001b[38;5;241;43m=\u001b[39;49m\u001b[43mquotechar\u001b[49m\u001b[43m)\u001b[49m\n\u001b[1;32m   1402\u001b[0m \u001b[38;5;28;01mreturn\u001b[39;00m arr\n",
      "File \u001b[0;32m/opt/anaconda3/envs/mrc/lib/python3.13/site-packages/numpy/lib/_npyio_impl.py:1012\u001b[0m, in \u001b[0;36m_read\u001b[0;34m(fname, delimiter, comment, quote, imaginary_unit, usecols, skiplines, max_rows, converters, ndmin, unpack, dtype, encoding)\u001b[0m\n\u001b[1;32m   1010\u001b[0m     fname \u001b[38;5;241m=\u001b[39m os\u001b[38;5;241m.\u001b[39mfspath(fname)\n\u001b[1;32m   1011\u001b[0m \u001b[38;5;28;01mif\u001b[39;00m \u001b[38;5;28misinstance\u001b[39m(fname, \u001b[38;5;28mstr\u001b[39m):\n\u001b[0;32m-> 1012\u001b[0m     fh \u001b[38;5;241m=\u001b[39m \u001b[43mnp\u001b[49m\u001b[38;5;241;43m.\u001b[39;49m\u001b[43mlib\u001b[49m\u001b[38;5;241;43m.\u001b[39;49m\u001b[43m_datasource\u001b[49m\u001b[38;5;241;43m.\u001b[39;49m\u001b[43mopen\u001b[49m\u001b[43m(\u001b[49m\u001b[43mfname\u001b[49m\u001b[43m,\u001b[49m\u001b[43m \u001b[49m\u001b[38;5;124;43m'\u001b[39;49m\u001b[38;5;124;43mrt\u001b[39;49m\u001b[38;5;124;43m'\u001b[39;49m\u001b[43m,\u001b[49m\u001b[43m \u001b[49m\u001b[43mencoding\u001b[49m\u001b[38;5;241;43m=\u001b[39;49m\u001b[43mencoding\u001b[49m\u001b[43m)\u001b[49m\n\u001b[1;32m   1013\u001b[0m     \u001b[38;5;28;01mif\u001b[39;00m encoding \u001b[38;5;129;01mis\u001b[39;00m \u001b[38;5;28;01mNone\u001b[39;00m:\n\u001b[1;32m   1014\u001b[0m         encoding \u001b[38;5;241m=\u001b[39m \u001b[38;5;28mgetattr\u001b[39m(fh, \u001b[38;5;124m'\u001b[39m\u001b[38;5;124mencoding\u001b[39m\u001b[38;5;124m'\u001b[39m, \u001b[38;5;124m'\u001b[39m\u001b[38;5;124mlatin1\u001b[39m\u001b[38;5;124m'\u001b[39m)\n",
      "File \u001b[0;32m/opt/anaconda3/envs/mrc/lib/python3.13/site-packages/numpy/lib/_datasource.py:192\u001b[0m, in \u001b[0;36mopen\u001b[0;34m(path, mode, destpath, encoding, newline)\u001b[0m\n\u001b[1;32m    155\u001b[0m \u001b[38;5;250m\u001b[39m\u001b[38;5;124;03m\"\"\"\u001b[39;00m\n\u001b[1;32m    156\u001b[0m \u001b[38;5;124;03mOpen `path` with `mode` and return the file object.\u001b[39;00m\n\u001b[1;32m    157\u001b[0m \n\u001b[0;32m   (...)\u001b[0m\n\u001b[1;32m    188\u001b[0m \n\u001b[1;32m    189\u001b[0m \u001b[38;5;124;03m\"\"\"\u001b[39;00m\n\u001b[1;32m    191\u001b[0m ds \u001b[38;5;241m=\u001b[39m DataSource(destpath)\n\u001b[0;32m--> 192\u001b[0m \u001b[38;5;28;01mreturn\u001b[39;00m \u001b[43mds\u001b[49m\u001b[38;5;241;43m.\u001b[39;49m\u001b[43mopen\u001b[49m\u001b[43m(\u001b[49m\u001b[43mpath\u001b[49m\u001b[43m,\u001b[49m\u001b[43m \u001b[49m\u001b[43mmode\u001b[49m\u001b[43m,\u001b[49m\u001b[43m \u001b[49m\u001b[43mencoding\u001b[49m\u001b[38;5;241;43m=\u001b[39;49m\u001b[43mencoding\u001b[49m\u001b[43m,\u001b[49m\u001b[43m \u001b[49m\u001b[43mnewline\u001b[49m\u001b[38;5;241;43m=\u001b[39;49m\u001b[43mnewline\u001b[49m\u001b[43m)\u001b[49m\n",
      "File \u001b[0;32m/opt/anaconda3/envs/mrc/lib/python3.13/site-packages/numpy/lib/_datasource.py:529\u001b[0m, in \u001b[0;36mDataSource.open\u001b[0;34m(self, path, mode, encoding, newline)\u001b[0m\n\u001b[1;32m    526\u001b[0m     \u001b[38;5;28;01mreturn\u001b[39;00m _file_openers[ext](found, mode\u001b[38;5;241m=\u001b[39mmode,\n\u001b[1;32m    527\u001b[0m                               encoding\u001b[38;5;241m=\u001b[39mencoding, newline\u001b[38;5;241m=\u001b[39mnewline)\n\u001b[1;32m    528\u001b[0m \u001b[38;5;28;01melse\u001b[39;00m:\n\u001b[0;32m--> 529\u001b[0m     \u001b[38;5;28;01mraise\u001b[39;00m \u001b[38;5;167;01mFileNotFoundError\u001b[39;00m(\u001b[38;5;124mf\u001b[39m\u001b[38;5;124m\"\u001b[39m\u001b[38;5;132;01m{\u001b[39;00mpath\u001b[38;5;132;01m}\u001b[39;00m\u001b[38;5;124m not found.\u001b[39m\u001b[38;5;124m\"\u001b[39m)\n",
      "\u001b[0;31mFileNotFoundError\u001b[0m: Assignment_06_Frames_files/data/point_cloud.txt not found."
     ]
    }
   ],
   "source": [
    "from typing import Sequence\n",
    "import numpy as np\n",
    "import numpy.linalg as linalg\n",
    "import matplotlib.pyplot as plt\n",
    "\n",
    "point_cloud = np.loadtxt(\"Assignment_06_Frames_files/data/point_cloud.txt\")\n",
    "\n",
    "# Please assign the transformation of the LiDAR relative to the camera to T_L_C\n",
    "T_of_L_relative_C = None\n",
    "\n",
    "# Please assign the point cloud relative to the camera to cam_points,\n",
    "# where the shape of 'cam_points' is (3, 37074)\n",
    "cam_points = None\n",
    "\n",
    "# YOUR CODE HERE\n",
    "T_C_B = get_homogeneous_transform([-89.5, 0, -89],[-0.027, 0.0, 0.8])\n",
    "T_L_B = get_homogeneous_transform([0,0,0],[-0.3,0.0,0.87])\n",
    "T_L_C = np.linalg.inv(T_C_B).dot(T_L_B)\n",
    "\n",
    "\n",
    "cam_focal_len = [721.54, 721.54]\n",
    "cam_centre = [609.56, 172.85]\n",
    "cam_param = np.array([[cam_focal_len[0], 0, cam_centre[0]],\n",
    "                      [0, cam_focal_len[1], cam_centre[1]],\n",
    "                      [0, 0, 1]])\n",
    "\n",
    "I = np.array([[1, 0, 0, 0],\n",
    "              [0, 1, 0, 0],\n",
    "              [0, 0, 1, 0]])\n",
    "\n",
    "point_cloud_alt = point_cloud.T\n",
    "point_cloud_alt = np.vstack((point_cloud_alt, np.array([1]*point_cloud_alt.shape[1]))) # add a row of ones\n",
    "\n",
    "cam_points = cam_param.dot(I).dot(T_L_C).dot(point_cloud_alt) # (3, 37074)\n",
    "cam_points = cam_points/ cam_points[2,:] # divide each vector by the z component value, i.e., last row of matrix"
   ]
  },
  {
   "cell_type": "code",
   "execution_count": null,
   "id": "24465132",
   "metadata": {
    "ExecuteTime": {
     "end_time": "2024-11-17T14:25:52.152737Z",
     "start_time": "2024-11-17T14:25:51.765711Z"
    },
    "deletable": false,
    "editable": false,
    "nbgrader": {
     "cell_type": "code",
     "checksum": "7ce4769bb65ddafc0044a20e1173b5d3",
     "grade": true,
     "grade_id": "test_AutonomousDriving_A0",
     "locked": true,
     "points": 20,
     "schema_version": 3,
     "solution": false,
     "task": false
    }
   },
   "outputs": [],
   "source": [
    "# This cell contains automated tests for your solution\n"
   ]
  },
  {
   "cell_type": "markdown",
   "id": "9bc85bc7",
   "metadata": {
    "deletable": false,
    "editable": false,
    "nbgrader": {
     "cell_type": "markdown",
     "checksum": "b04cbe1860993fd650fce2e8b3d7f49a",
     "grade": false,
     "grade_id": "AutonomousDriving_B_description0",
     "locked": true,
     "schema_version": 3,
     "solution": false,
     "task": false
    }
   },
   "source": [
    "Verify your results by running the cell below. Your plot should look as shown below.\n",
    "![Heat_map](Assignment_06_Frames_files/img/heat_map.png) "
   ]
  },
  {
   "cell_type": "code",
   "execution_count": null,
   "id": "1413e0de",
   "metadata": {
    "ExecuteTime": {
     "end_time": "2024-11-17T14:25:54.348757Z",
     "start_time": "2024-11-17T14:25:53.098505Z"
    },
    "deletable": false,
    "editable": false,
    "nbgrader": {
     "cell_type": "code",
     "checksum": "0ad23c9196637fcb3cb36d1a32a95ddd",
     "grade": false,
     "grade_id": "AutonomousDriving_B_description1",
     "locked": true,
     "points": 0,
     "schema_version": 3,
     "solution": false,
     "task": false
    }
   },
   "outputs": [],
   "source": [
    "# Visualizing your solution\n",
    "img = plt.imread(\"Assignment_06_Frames_files/img/RBG_image.png\")\n",
    "plt.figure(figsize=(12.42,3.75))\n",
    "plt.imshow(img)\n",
    "plt.figure(figsize=(12.42,3.75))\n",
    "plt.gca().invert_yaxis()\n",
    "plt.scatter(cam_points[0], cam_points[1], c = point_cloud[:,2])\n",
    "plt.show()"
   ]
  },
  {
   "cell_type": "markdown",
   "id": "2aef98c1",
   "metadata": {
    "deletable": false,
    "editable": false,
    "nbgrader": {
     "cell_type": "markdown",
     "checksum": "20303c8f816175fa4fb8c06624064779",
     "grade": false,
     "grade_id": "taskheader_3",
     "locked": true,
     "schema_version": 3,
     "solution": false,
     "task": false
    }
   },
   "source": [
    "# Task 3\n",
    "\n",
    "**[30 Point(s)]**"
   ]
  },
  {
   "cell_type": "markdown",
   "id": "991032b5",
   "metadata": {
    "deletable": false,
    "editable": false,
    "nbgrader": {
     "cell_type": "markdown",
     "checksum": "405173c000cb0ce94203966357cb6db3",
     "grade": false,
     "grade_id": "RocketScience_ARocketScience_BRocketScience_C_Header",
     "locked": true,
     "schema_version": 3,
     "solution": false,
     "task": false
    }
   },
   "source": [
    "## Rocket Science\n",
    "\n",
    "It's the year 2069 and you have been chosen by NASA for the 'Alpha Centauri Mission'. The mission objective is to send a probe to the nearest star system 'Alpha Centauri'. The probe needs to maintain its orientation towards the star system at all times. The probe tracks three stars namely 'Alpha Centauri A', 'Sirius' and 'Denebola' (which are conveniently perpendicular to each other with respect to the probe) to correct its trajectory. The probe has multiple cameras placed strategically around the spacecraft to track these stars.\n",
    "\n",
    "Unfortunately, an asteroid causes the probe to dislodge from its path by offsetting its orientation. To recover from the situation, three cameras are used to track the three stars separately. The ground station receives the data from the probe as follows,\n",
    "- Camera#1 observes 'Alpha Centauri A' with respect to its frame $\\{C_1\\}$ at angles $29.87^o$ from its $X$ cooridinate, $66.34^o$ from its $Y$ coordinate and $72.84^o$ from its $Z$ coordinate. 'Alpha Centauri A' is about $4.4$ light years away from the probe.\n",
    "- Camera#2 observes 'Sirius' with respect to its frame $\\{C_2\\}$ at angles $19.02^o$ from its $X$ cooridinate, $89.95^o$ from its $Y$ coordinate and $109.02^o$ from its $Z$ coordinate. 'Sirius' is about $8.6$ light years away from the probe.\n",
    "- Camera#3 observes 'Denebola' with respect to its frame $\\{C_3\\}$ at angles $23.32^o$ from its $X$ cooridinate, $95.77^o$ from its $Y$ coordinate and $67.49^o$ from its $Z$ coordinate of the frame $\\{C_3\\}$. 'Denebola' is about $36$ light years away from the probe.\n",
    "\n",
    "We also know the following information,\n",
    "- Camera#1 is rotated by $-20^o$ about $Z$, $10^o$ about $Y$ and $-175^o$ about $X$ with respect to the center of the probe.\n",
    "- Camera#2 is rotated by $50^o$ about $Z$, $12^o$ about $Y$ and $-155^o$ about $X$ with respect to the center of the probe.\n",
    "- Camera#3 is rotated by $-3^o$ about $Z$, $-70^o$ about $Y$ and $70^o$ about $X$ with respect to the center of the probe.\n",
    "\n",
    "Since we are observing the stars which are light years away, the translation of the cameras from the center of the probe can be ignored.<br>\n",
    "\n",
    "Your task is to calculate the orientation error with respect to the stars so that the probe can realign itself. Note that all the rotations follow the Euler convention.\n",
    "\n",
    "_Hint 1_ : Recall the conversion of polar coordinates to Cartesian coordinates.<br>\n",
    "_Hint 2_ : Don't forget that rotation matrices are **orthonormal**."
   ]
  },
  {
   "cell_type": "markdown",
   "id": "8666a109",
   "metadata": {
    "deletable": false,
    "editable": false,
    "nbgrader": {
     "cell_type": "markdown",
     "checksum": "9228114ebf19cfcb46b75766c4be0e18",
     "grade": false,
     "grade_id": "taskheader_3_1",
     "locked": true,
     "schema_version": 3,
     "solution": false,
     "task": false
    }
   },
   "source": [
    "## Task 3.1\n",
    "\n",
    "**[10 Point(s)]**"
   ]
  },
  {
   "cell_type": "markdown",
   "id": "3e1a94f3",
   "metadata": {
    "deletable": false,
    "editable": false,
    "nbgrader": {
     "cell_type": "markdown",
     "checksum": "4737014e6ee47f23ff8f92d18a325b69",
     "grade": false,
     "grade_id": "RocketScience_A_Description0",
     "locked": true,
     "schema_version": 3,
     "solution": false,
     "task": false
    }
   },
   "source": [
    "![rocket_science](Assignment_06_Frames_files/img/Animation.gif)\n",
    "\n",
    "Task 1: Obtain the position of the stars w.r.t the cameras."
   ]
  },
  {
   "cell_type": "code",
   "execution_count": null,
   "id": "60dd2b1b",
   "metadata": {
    "ExecuteTime": {
     "end_time": "2024-11-17T14:44:24.368166Z",
     "start_time": "2024-11-17T14:44:24.355213Z"
    },
    "deletable": false,
    "nbgrader": {
     "cell_type": "code",
     "checksum": "f21aab1a577124ec2cb453f1cb81b55c",
     "grade": false,
     "grade_id": "RocketScience_A",
     "locked": false,
     "schema_version": 3,
     "solution": true,
     "task": false
    }
   },
   "outputs": [],
   "source": [
    "import math\n",
    "import numpy as np\n",
    "import numpy.linalg as linalg\n",
    "import matplotlib.pyplot as plt\n",
    "\n",
    "# Position of stars w.r.t the cameras.\n",
    "ac_c1 = ...\n",
    "si_c2 = ...\n",
    "de_c3 = ...\n",
    "\n",
    "# YOUR CODE HERE\n",
    "def degree_to_radian (array_of_degrees : list):\n",
    "    return [math.radians(angles) for angles in array_of_degrees]\n",
    "\n",
    "# Position of stars w.r.t the cameras.\n",
    "\n",
    "C1_radians = degree_to_radian([29.87,66.34,72.84])\n",
    "C2_radians = degree_to_radian([19.02,89.95,109.02])\n",
    "C3_radians = degree_to_radian([23.32,95.77,67.46])\n",
    "\n",
    "# YOUR CODE HERE\n",
    "\n",
    "# calculating the projection of polar coordinates on the X,Y,Z axies using R*cos(theta)\n",
    "\n",
    "ac_c1 = [4.4*np.cos(C1_radians[0]),4.4*np.cos(C1_radians[1]),4.4*np.cos(C1_radians[2])]\n",
    "si_c2 = [8.6*np.cos(C2_radians[0]),8.6*np.cos(C2_radians[1]),8.6*np.cos(C2_radians[2])]\n",
    "de_c3 = [36*np.cos(C3_radians[0]),36*np.cos(C3_radians[1]),36*np.cos(C3_radians[2])]\n",
    "\n",
    "print('ac_c1 is :\\n',ac_c1)\n",
    "print('si_c2 is :\\n',si_c2)\n",
    "print('de_c3 is :\\n',de_c3)\n",
    "\n",
    "#raise NotImplementedError()"
   ]
  },
  {
   "cell_type": "code",
   "execution_count": null,
   "id": "e7012831",
   "metadata": {
    "ExecuteTime": {
     "end_time": "2024-11-17T14:44:24.597697Z",
     "start_time": "2024-11-17T14:44:24.481818Z"
    },
    "deletable": false,
    "editable": false,
    "nbgrader": {
     "cell_type": "code",
     "checksum": "2b9460d7149b601b0e1e591070c78df2",
     "grade": true,
     "grade_id": "test_RocketScience_A0",
     "locked": true,
     "points": 10,
     "schema_version": 3,
     "solution": false,
     "task": false
    }
   },
   "outputs": [],
   "source": [
    "# This cell contains automated tests for your solution\n"
   ]
  },
  {
   "cell_type": "markdown",
   "id": "f9f7db28",
   "metadata": {
    "deletable": false,
    "editable": false,
    "nbgrader": {
     "cell_type": "markdown",
     "checksum": "aeed6bb0d665a9aab050d3118b46c2ea",
     "grade": false,
     "grade_id": "taskheader_3_2",
     "locked": true,
     "schema_version": 3,
     "solution": false,
     "task": false
    }
   },
   "source": [
    "## Task 3.2\n",
    "\n",
    "**[10 Point(s)]**"
   ]
  },
  {
   "cell_type": "markdown",
   "id": "3a8bb565",
   "metadata": {
    "deletable": false,
    "editable": false,
    "nbgrader": {
     "cell_type": "markdown",
     "checksum": "e1479d1a2351a3e77a021ecc76edb007",
     "grade": false,
     "grade_id": "RocketScience_B_Description0",
     "locked": true,
     "schema_version": 3,
     "solution": false,
     "task": false
    }
   },
   "source": [
    "Task 2: Obtain the position of the stars w.r.t the probe."
   ]
  },
  {
   "cell_type": "code",
   "execution_count": null,
   "id": "2cd5912b",
   "metadata": {
    "ExecuteTime": {
     "end_time": "2024-11-17T14:44:25.120038Z",
     "start_time": "2024-11-17T14:44:25.111268Z"
    },
    "deletable": false,
    "nbgrader": {
     "cell_type": "code",
     "checksum": "b5d2377a635e03ae7375977c378dbd54",
     "grade": false,
     "grade_id": "RocketScience_B",
     "locked": false,
     "schema_version": 3,
     "solution": true,
     "task": false
    }
   },
   "outputs": [],
   "source": [
    "# Position of stars wrt probe.\n",
    "ac_p = ...\n",
    "si_p = ...\n",
    "de_p = ...\n",
    "\n",
    "# YOUR CODE HERE\n",
    "ac_p_rotation_matrix_z = get_RZ(np.radians(-20))\n",
    "ac_p_rotation_matrix_y = get_RY(np.radians(10))\n",
    "ac_p_rotation_matrix_x = get_RX(np.radians(-175))\n",
    "ac_p_rotation_matrix = ac_p_rotation_matrix_z@ac_p_rotation_matrix_y@ac_p_rotation_matrix_x\n",
    "ac_p = ac_p_rotation_matrix@ac_c1\n",
    "\n",
    "si_p_rotation_matrix_z = get_RZ(np.radians(50))\n",
    "si_p_rotation_matrix_y = get_RY(np.radians(12))\n",
    "si_p_rotation_matrix_x = get_RX(np.radians(-155))\n",
    "si_p_rotation_matrix = si_p_rotation_matrix_z@si_p_rotation_matrix_y@si_p_rotation_matrix_x\n",
    "si_p = si_p_rotation_matrix@si_c2\n",
    "\n",
    "de_p_rotation_matrix_z = get_RZ(np.radians(-3))\n",
    "de_p_rotation_matrix_y = get_RY(np.radians(-70))\n",
    "de_p_rotation_matrix_x = get_RX(np.radians(70))\n",
    "de_p_rotation_matrix = de_p_rotation_matrix_z@de_p_rotation_matrix_y@de_p_rotation_matrix_x\n",
    "de_p = de_p_rotation_matrix@de_c3\n",
    "\n",
    "print(ac_p, si_p, de_p)\n"
   ]
  },
  {
   "cell_type": "code",
   "execution_count": null,
   "id": "dbc77991",
   "metadata": {
    "ExecuteTime": {
     "end_time": "2024-11-17T14:44:25.506901Z",
     "start_time": "2024-11-17T14:44:25.501149Z"
    },
    "deletable": false,
    "editable": false,
    "nbgrader": {
     "cell_type": "code",
     "checksum": "4cf3f00dc18ca47dbb8216a5a493aca0",
     "grade": true,
     "grade_id": "test_RocketScience_B0",
     "locked": true,
     "points": 10,
     "schema_version": 3,
     "solution": false,
     "task": false
    }
   },
   "outputs": [],
   "source": [
    "# This cell contains automated tests for your solution\n"
   ]
  },
  {
   "cell_type": "markdown",
   "id": "a6eebf9e",
   "metadata": {
    "deletable": false,
    "editable": false,
    "nbgrader": {
     "cell_type": "markdown",
     "checksum": "8369b8a74562f5baf718c945c235e0ad",
     "grade": false,
     "grade_id": "taskheader_3_3",
     "locked": true,
     "schema_version": 3,
     "solution": false,
     "task": false
    }
   },
   "source": [
    "## Task 3.3\n",
    "\n",
    "**[10 Point(s)]**"
   ]
  },
  {
   "cell_type": "markdown",
   "id": "15dba34f",
   "metadata": {
    "deletable": false,
    "editable": false,
    "nbgrader": {
     "cell_type": "markdown",
     "checksum": "46b4845e615a96de8a61c734dd8a461e",
     "grade": false,
     "grade_id": "RocketScience_C_Description0",
     "locked": true,
     "schema_version": 3,
     "solution": false,
     "task": false
    }
   },
   "source": [
    "Task 3: Obtain the angles of rotation to correct the trajectory of the probe. (In radians)"
   ]
  },
  {
   "cell_type": "code",
   "execution_count": null,
   "id": "afd0a809",
   "metadata": {
    "ExecuteTime": {
     "end_time": "2024-11-17T14:44:26.526110Z",
     "start_time": "2024-11-17T14:44:26.509799Z"
    },
    "deletable": false,
    "nbgrader": {
     "cell_type": "code",
     "checksum": "7de9cda74a4e18aace60f6f3f5a8430a",
     "grade": false,
     "grade_id": "RocketScience_C",
     "locked": false,
     "schema_version": 3,
     "solution": true,
     "task": false
    }
   },
   "outputs": [],
   "source": [
    "# Obtaining angle of rotations from the matrix.\n",
    "beta = ...\n",
    "alpha = ...\n",
    "gamma = ...\n",
    "\n",
    "# YOUR CODE HERE\n",
    "ac_p_norm = np.linalg.norm(ac_p)\n",
    "si_p_norm = np.linalg.norm(si_p)\n",
    "de_p_norm = np.linalg.norm(de_p)\n",
    "\n",
    "ac_p_ = ac_p/ac_p_norm\n",
    "si_p_ = si_p/si_p_norm\n",
    "de_p_ = de_p/de_p_norm\n",
    "\n",
    "#print('ac_p_ is ' , ac_p_)\n",
    "#print('si_p_ is :', si_p_)\n",
    "#print('de_p_ is :', de_p_)\n",
    "\n",
    "# Shaping our Rotation matrix\n",
    "\n",
    "ac_p_ = np.array([ac_p_]).T\n",
    "si_p_ = np.array([si_p_]).T\n",
    "de_p_ = np.array([de_p_]).T\n",
    "\n",
    "Rotation_matrix = np.hstack([ac_p_,si_p_,de_p_])\n",
    "#print('Rotation_matrix is \\n',Rotation_matrix)\n",
    "\n",
    "#Calculating desiered angles\n",
    "beta = np.arctan2(-Rotation_matrix[2,0],np.sqrt(Rotation_matrix[0,0]**2 + Rotation_matrix[1,0]**2))\n",
    "alpha = np.arctan2(Rotation_matrix[1,0],Rotation_matrix[0,0])\n",
    "gamma = np.arctan2(Rotation_matrix[2,1],Rotation_matrix[2,2])\n",
    "\n",
    "print ( 'beta value is :' , beta )\n",
    "print ( 'alpha value is :' , alpha )\n",
    "print ( 'gamma value is :' , gamma )\n",
    "\n",
    "\n",
    "# YOUR CODE HERE\n",
    "#raise NotImplementedError()"
   ]
  },
  {
   "cell_type": "code",
   "execution_count": null,
   "id": "8da525cf",
   "metadata": {
    "ExecuteTime": {
     "end_time": "2024-11-17T14:44:28.275628Z",
     "start_time": "2024-11-17T14:44:28.270297Z"
    },
    "deletable": false,
    "editable": false,
    "nbgrader": {
     "cell_type": "code",
     "checksum": "84b57550f57c2acf3500d69632158fad",
     "grade": true,
     "grade_id": "test_RocketScience_C0",
     "locked": true,
     "points": 10,
     "schema_version": 3,
     "solution": false,
     "task": false
    }
   },
   "outputs": [],
   "source": [
    "# This cell contains automated tests for your solution\n"
   ]
  },
  {
   "cell_type": "markdown",
   "id": "95e2f65b",
   "metadata": {
    "deletable": false,
    "editable": false,
    "nbgrader": {
     "cell_type": "markdown",
     "checksum": "6749a401d6e37477127e2de46e643369",
     "grade": false,
     "grade_id": "RocketScience_C_description0",
     "locked": true,
     "schema_version": 3,
     "solution": false,
     "task": false
    }
   },
   "source": [
    "Run the code below to verify the solution that you provided."
   ]
  },
  {
   "cell_type": "code",
   "execution_count": null,
   "id": "c57665eb",
   "metadata": {
    "ExecuteTime": {
     "end_time": "2024-11-17T14:44:29.333641Z",
     "start_time": "2024-11-17T14:44:29.301532Z"
    },
    "deletable": false,
    "editable": false,
    "nbgrader": {
     "cell_type": "code",
     "checksum": "58aeda24c42824a969d1791bde645558",
     "grade": false,
     "grade_id": "RocketScience_C_description1",
     "locked": true,
     "points": 0,
     "schema_version": 3,
     "solution": false,
     "task": false
    }
   },
   "outputs": [],
   "source": [
    "%matplotlib notebook\n",
    "\n",
    "from data.simulation import Simulation\n",
    "\n",
    "sim = Simulation('Assignment_06_Frames_files/data/ini_pos.txt', 'Assignment_06_Frames_files/data/fin_pos.txt')\n",
    "\n",
    "sim.euler_continuous(np.rad2deg(alpha), np.rad2deg(beta), np.rad2deg(gamma))"
   ]
  },
  {
   "cell_type": "code",
   "execution_count": null,
   "id": "82a45fbe",
   "metadata": {
    "ExecuteTime": {
     "end_time": "2024-11-17T14:44:57.580666Z",
     "start_time": "2024-11-17T14:44:46.895235Z"
    }
   },
   "outputs": [],
   "source": [
    "%matplotlib notebook\n",
    "\n",
    "from Assignment_06_Frames_files.data.simulation import Simulation\n",
    "\n",
    "sim = Simulation('Assignment_06_Frames_files/data/ini_pos.txt', 'Assignment_06_Frames_files/data/fin_pos.txt')\n",
    "\n",
    "sim.euler_continuous(np.rad2deg(alpha), np.rad2deg(beta), np.rad2deg(gamma))"
   ]
  },
  {
   "cell_type": "markdown",
   "id": "5e0c5ba5",
   "metadata": {
    "deletable": false,
    "editable": false,
    "nbgrader": {
     "cell_type": "markdown",
     "checksum": "0af6af79d080cd3d6efe58ed4f87c636",
     "grade": false,
     "grade_id": "taskheader_4",
     "locked": true,
     "schema_version": 3,
     "solution": false,
     "task": false
    }
   },
   "source": [
    "# Task 4\n",
    "\n",
    "**[15 Point(s)]**"
   ]
  },
  {
   "cell_type": "markdown",
   "id": "82e565b5",
   "metadata": {
    "deletable": false,
    "editable": false,
    "nbgrader": {
     "cell_type": "markdown",
     "checksum": "aca2015926fb4f1ae4d60895307c266a",
     "grade": false,
     "grade_id": "RotationMatrices_A_Header",
     "locked": true,
     "schema_version": 3,
     "solution": false,
     "task": false
    }
   },
   "source": [
    "## Rotation Matrices [15 points]\n"
   ]
  },
  {
   "cell_type": "markdown",
   "id": "2bba3566",
   "metadata": {
    "deletable": false,
    "editable": false,
    "nbgrader": {
     "cell_type": "markdown",
     "checksum": "7ff37957165a28c8fbc4a0072a88bca4",
     "grade": false,
     "grade_id": "RotationMatrices_A_Description0",
     "locked": true,
     "schema_version": 3,
     "solution": false,
     "task": false
    }
   },
   "source": [
    "You are given a set of matrices and your task is to find out whether the matrices represent rotations."
   ]
  },
  {
   "cell_type": "code",
   "execution_count": null,
   "id": "ba16fbbb",
   "metadata": {
    "ExecuteTime": {
     "end_time": "2024-11-17T14:48:00.408905Z",
     "start_time": "2024-11-17T14:48:00.396133Z"
    },
    "deletable": false,
    "nbgrader": {
     "cell_type": "code",
     "checksum": "2221ff6e6edc83b6da0ed5e1033e5f0a",
     "grade": false,
     "grade_id": "RotationMatrices_A",
     "locked": false,
     "schema_version": 3,
     "solution": true,
     "task": false
    }
   },
   "outputs": [],
   "source": [
    "import numpy as np\n",
    "from Assignment_06_Frames_files.data.matrix_samples import samples\n",
    "\n",
    "def is_rotation_matrix(matrix: np.ndarray) -> bool:\n",
    "    '''Returns True only if the input matrix is a\n",
    "    rotation matrix, otherwise it returns False.\n",
    "\n",
    "    Keyword arguments:\n",
    "    matrix -- np.ndarray -- candidate rotation matrix\n",
    "\n",
    "    '''\n",
    "    # YOUR CODE HERE\n",
    "    if(matrix.shape[0]!=matrix.shape[1] or \n",
    "       (not np.allclose(matrix @ matrix.T, np.identity(matrix.shape[0]) )) or \n",
    "       (abs(np.linalg.det(matrix)) != 1.0)\n",
    "      ):\n",
    "        return False\n",
    "    else:\n",
    "        return True\n",
    "\n",
    "    \n",
    "# This cell runs your function with multiple test matrices\n",
    "matrix_indices = [idx for idx, mat in enumerate(samples)\n",
    "                  if is_rotation_matrix(np.array(mat))]    \n",
    "\n",
    "print('matrix_indices: ', matrix_indices)\n",
    "print('the rotation matrix: ', samples[matrix_indices[0]])"
   ]
  },
  {
   "cell_type": "code",
   "execution_count": null,
   "id": "13552831",
   "metadata": {
    "ExecuteTime": {
     "end_time": "2024-11-11T14:07:12.025700Z",
     "start_time": "2024-11-11T14:07:11.974701Z"
    },
    "deletable": false,
    "editable": false,
    "nbgrader": {
     "cell_type": "code",
     "checksum": "6be0ed9a4a633cfd50127e93286e139e",
     "grade": true,
     "grade_id": "test_RotationMatrices_A0",
     "locked": true,
     "points": 15,
     "schema_version": 3,
     "solution": false,
     "task": false
    }
   },
   "outputs": [],
   "source": [
    "# This cell contains automated tests for your solution\n"
   ]
  }
 ],
 "metadata": {
  "kernelspec": {
   "display_name": "Python 3 (ipykernel)",
   "language": "python",
   "name": "python3"
  },
  "language_info": {
   "codemirror_mode": {
    "name": "ipython",
    "version": 3
   },
   "file_extension": ".py",
   "mimetype": "text/x-python",
   "name": "python",
   "nbconvert_exporter": "python",
   "pygments_lexer": "ipython3",
   "version": "3.12.2"
  }
 },
 "nbformat": 4,
 "nbformat_minor": 5
}
