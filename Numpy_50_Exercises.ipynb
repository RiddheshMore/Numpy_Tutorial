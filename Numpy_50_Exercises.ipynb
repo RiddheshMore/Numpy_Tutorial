{
 "cells": [
  {
   "cell_type": "markdown",
   "id": "21de8e26-c265-478f-950d-d1bc87ca169e",
   "metadata": {},
   "source": [
    "### Rotate a 3D vector using a given rotation matrix."
   ]
  },
  {
   "cell_type": "code",
   "execution_count": null,
   "id": "7e4f9667-86da-4962-95c4-0818b529eba8",
   "metadata": {},
   "outputs": [],
   "source": []
  },
  {
   "cell_type": "code",
   "execution_count": 37,
   "id": "25f9907e-63ac-44ec-b597-3215bdfef968",
   "metadata": {},
   "outputs": [],
   "source": [
    "vector = np.array([1,0,0])\n"
   ]
  },
  {
   "cell_type": "code",
   "execution_count": 44,
   "id": "02cec0e4-f65d-46e9-ae59-a2d025e1947b",
   "metadata": {},
   "outputs": [
    {
     "name": "stdout",
     "output_type": "stream",
     "text": [
      "[ 6.123234e-17  0.000000e+00 -1.000000e+00]\n"
     ]
    }
   ],
   "source": [
    "r_v_y = rot_matrix_y(90) @ vector \n",
    "print(r_v_y)"
   ]
  },
  {
   "cell_type": "code",
   "execution_count": 54,
   "id": "4c242b43-b10c-460d-9534-09b6a12c90e1",
   "metadata": {},
   "outputs": [
    {
     "name": "stdout",
     "output_type": "stream",
     "text": [
      "0.0\n",
      "[[ 1.  0.  0.]\n",
      " [ 0.  1. -0.]\n",
      " [ 0.  0.  1.]]\n"
     ]
    }
   ],
   "source": [
    "Rx_0 = rot_matrix_x(0)\n",
    "Ry_0 = rot_matrix_y(0)\n",
    "Rz_0 = rot_matrix_z(0)\n",
    "print(Rx_0)"
   ]
  },
  {
   "cell_type": "code",
   "execution_count": 55,
   "id": "30d5489f-3e83-4614-bcc8-e52d60d1df64",
   "metadata": {},
   "outputs": [
    {
     "name": "stdout",
     "output_type": "stream",
     "text": [
      "[[ 1.  0.  0.]\n",
      " [ 0.  1.  0.]\n",
      " [-0.  0.  1.]]\n"
     ]
    }
   ],
   "source": [
    "print(Ry_0)"
   ]
  },
  {
   "cell_type": "code",
   "execution_count": 56,
   "id": "3303602e-f2cf-4fa7-9fe1-74c772ee4364",
   "metadata": {},
   "outputs": [
    {
     "name": "stdout",
     "output_type": "stream",
     "text": [
      "[[ 1. -0.  0.]\n",
      " [ 0.  1.  0.]\n",
      " [ 0.  0.  1.]]\n"
     ]
    }
   ],
   "source": [
    "print(Rz_0)"
   ]
  },
  {
   "cell_type": "code",
   "execution_count": 66,
   "id": "e018acd2-fd87-4745-9033-5ea9d6dfceb5",
   "metadata": {},
   "outputs": [
    {
     "name": "stdout",
     "output_type": "stream",
     "text": [
      "[[ 0.17647059 -0.00326797 -0.02287582]\n",
      " [ 0.05882353 -0.13071895  0.08496732]\n",
      " [-0.11764706  0.1503268   0.05228758]]\n",
      "[[ 6  4  2]\n",
      " [ 1 -2  8]\n",
      " [ 1  5  7]]\n"
     ]
    }
   ],
   "source": [
    "# Import required package\n",
    "import numpy as np\n",
    "\n",
    "# Taking a 3 * 3 matrix\n",
    "A = np.array([[6, 1, 1],\n",
    "\t\t\t[4, -2, 5],\n",
    "\t\t\t[2, 8, 7]])\n",
    "\n",
    "# Calculating the inverse of the matrix\n",
    "A_Inv = np.linalg.inv(A)\n",
    "\n",
    "# Calculate transpose \n",
    "A_ts = A.transpose()\n",
    "\n",
    "print(A_Inv)\n",
    "print(A_ts)"
   ]
  },
  {
   "cell_type": "code",
   "execution_count": 72,
   "id": "627511bf-979a-4715-a9b2-df4981f19ded",
   "metadata": {},
   "outputs": [
    {
     "name": "stdout",
     "output_type": "stream",
     "text": [
      "[[1. 0. 0. 0.]\n",
      " [0. 1. 0. 0.]\n",
      " [0. 0. 1. 0.]\n",
      " [0. 0. 0. 1.]]\n"
     ]
    }
   ],
   "source": [
    "print(I)"
   ]
  },
  {
   "cell_type": "code",
   "execution_count": 73,
   "id": "1e35c16d-766c-4505-992b-292f256d7787",
   "metadata": {},
   "outputs": [
    {
     "name": "stdout",
     "output_type": "stream",
     "text": [
      "Translation Matrix:\n",
      " [[1. 0. 0. 1.]\n",
      " [0. 1. 0. 2.]\n",
      " [0. 0. 1. 3.]\n",
      " [0. 0. 0. 1.]]\n"
     ]
    }
   ],
   "source": [
    "def translation_matrix(x, y, z):\n",
    "    T = np.eye(4)  # Start with identity\n",
    "    T[:3, 3] = [x, y, z]  # Set translation part\n",
    "    return T\n",
    "\n",
    "# Example usage\n",
    "T = translation_matrix(1, 2, 3)\n",
    "print(\"Translation Matrix:\\n\", T)\n"
   ]
  },
  {
   "cell_type": "code",
   "execution_count": 74,
   "id": "3ecb6c52-d96f-48b7-886d-a851e9c59bea",
   "metadata": {},
   "outputs": [
    {
     "name": "stdout",
     "output_type": "stream",
     "text": [
      "Homogeneous Transformation Matrix:\n",
      " [[1. 0. 0. 0.]\n",
      " [0. 1. 0. 0.]\n",
      " [0. 0. 1. 0.]\n",
      " [0. 0. 0. 1.]]\n"
     ]
    }
   ],
   "source": [
    "def homogeneous_from_rotation(R):\n",
    "    T = np.eye(4)\n",
    "    T[:3, :3] = R  # Insert rotation part\n",
    "    return T\n",
    "\n",
    "# Example with an identity rotation matrix\n",
    "R = np.eye(3)\n",
    "T = homogeneous_from_rotation(R)\n",
    "print(\"Homogeneous Transformation Matrix:\\n\", T)\n"
   ]
  },
  {
   "cell_type": "code",
   "execution_count": null,
   "id": "f04b757e-2a36-428f-bdc5-389a30382f32",
   "metadata": {},
   "outputs": [],
   "source": []
  }
 ],
 "metadata": {
  "kernelspec": {
   "display_name": "Python 3 (ipykernel)",
   "language": "python",
   "name": "python3"
  },
  "language_info": {
   "codemirror_mode": {
    "name": "ipython",
    "version": 3
   },
   "file_extension": ".py",
   "mimetype": "text/x-python",
   "name": "python",
   "nbconvert_exporter": "python",
   "pygments_lexer": "ipython3",
   "version": "3.12.2"
  }
 },
 "nbformat": 4,
 "nbformat_minor": 5
}
