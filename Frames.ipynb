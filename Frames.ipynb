{
 "cells": [
  {
   "cell_type": "markdown",
   "id": "e873b1aa-61ec-489d-8615-78981c86e386",
   "metadata": {},
   "source": [
    "# Python Basics Refresher"
   ]
  },
  {
   "cell_type": "markdown",
   "id": "9a805064-5515-4a12-9281-9b8826982b99",
   "metadata": {},
   "source": [
    "### Function Practice"
   ]
  },
  {
   "cell_type": "markdown",
   "id": "788c6792-960d-4090-ba49-c8e3b0a6c6f8",
   "metadata": {},
   "source": [
    "### Write a function square(x) that returns the square of a number"
   ]
  },
  {
   "cell_type": "code",
   "execution_count": 1,
   "id": "7564e6e8-d89a-438b-9153-96463d4f771d",
   "metadata": {},
   "outputs": [],
   "source": [
    "def sqr (x):\n",
    "    sqr = x*x\n",
    "    return sqr "
   ]
  },
  {
   "cell_type": "code",
   "execution_count": 2,
   "id": "c284e50f-09f4-4bc2-9b5d-f31ee06b09b6",
   "metadata": {},
   "outputs": [
    {
     "data": {
      "text/plain": [
       "16"
      ]
     },
     "execution_count": 2,
     "metadata": {},
     "output_type": "execute_result"
    }
   ],
   "source": [
    "sqr(4)"
   ]
  },
  {
   "cell_type": "markdown",
   "id": "c0771c9b-06cf-4fca-9e7a-33c96b058282",
   "metadata": {},
   "source": [
    "### List Manipulation"
   ]
  },
  {
   "cell_type": "markdown",
   "id": "632baa6b-484a-44fa-a079-cfa9f21db48a",
   "metadata": {},
   "source": [
    "### Write a function double_list(lst) that returns a list with each element doubled"
   ]
  },
  {
   "cell_type": "code",
   "execution_count": 4,
   "id": "0961549d-9a3c-4b4d-beff-c1512d3d4c4d",
   "metadata": {},
   "outputs": [
    {
     "name": "stdout",
     "output_type": "stream",
     "text": [
      "[2, 4, 6, 8]\n"
     ]
    }
   ],
   "source": [
    "def double_list(lst):\n",
    "    return [2 * x for x in lst]\n",
    "print(double_list([1,2,3,4]))"
   ]
  },
  {
   "cell_type": "markdown",
   "id": "93a4a800-465d-48ce-9606-979d037e9cce",
   "metadata": {},
   "source": [
    "### Numpy Introduction"
   ]
  },
  {
   "cell_type": "markdown",
   "id": "243124bb-d323-4ff5-b759-b048eea70d09",
   "metadata": {},
   "source": [
    "### Write a function `vector_norm(v)` that takes a NumPy array and returns its Euclidean norm."
   ]
  },
  {
   "cell_type": "code",
   "execution_count": 12,
   "id": "cba9cb00-92de-4877-8057-3ca67aac542b",
   "metadata": {},
   "outputs": [],
   "source": [
    "import numpy as np\n",
    "def vector_norm(v):\n",
    "    return np.linalg.norm(v)"
   ]
  },
  {
   "cell_type": "code",
   "execution_count": 13,
   "id": "cba31911-594a-40c4-84d8-4932e2c97620",
   "metadata": {},
   "outputs": [],
   "source": [
    "vec = np.array([3,4])"
   ]
  },
  {
   "cell_type": "code",
   "execution_count": 14,
   "id": "65f9e076-8b4f-4faa-9e4a-8339ac3f69c2",
   "metadata": {},
   "outputs": [
    {
     "name": "stdout",
     "output_type": "stream",
     "text": [
      "5.0\n"
     ]
    }
   ],
   "source": [
    "print(vector_norm(vec))"
   ]
  },
  {
   "cell_type": "markdown",
   "id": "26ef9223-fff9-448a-849d-af1bf5151994",
   "metadata": {},
   "source": [
    "# Rotation Matrices \n"
   ]
  },
  {
   "cell_type": "markdown",
   "id": "3240a05b-8aee-440f-b33a-7ee9de1f9ec9",
   "metadata": {},
   "source": [
    "### Rotation Matrix about X-axis"
   ]
  },
  {
   "cell_type": "markdown",
   "id": "6dae5f50-472c-4cc7-81ac-576df1f16daf",
   "metadata": {},
   "source": [
    "#### Implement a function `get_RX(theta)` to return a 3×3 rotation matrix for rotation by `theta` radians about the X-axis."
   ]
  },
  {
   "cell_type": "code",
   "execution_count": null,
   "id": "e21edc9e-a0bb-4e70-aa95-37106e256fd9",
   "metadata": {},
   "outputs": [],
   "source": []
  },
  {
   "cell_type": "code",
   "execution_count": null,
   "id": "ab3ffeb8-0550-4502-a0f9-1c194b83d738",
   "metadata": {},
   "outputs": [],
   "source": []
  },
  {
   "cell_type": "code",
   "execution_count": null,
   "id": "7ffa87dc-fb73-484f-a36a-95561ece645c",
   "metadata": {},
   "outputs": [],
   "source": []
  },
  {
   "cell_type": "markdown",
   "id": "f162c8c1-1409-43ce-b816-6911ba99879e",
   "metadata": {},
   "source": [
    "### Basic Trignometry in Python "
   ]
  },
  {
   "cell_type": "code",
   "execution_count": 3,
   "id": "1beb6bb6-e999-44b2-8cd6-839d966cd424",
   "metadata": {},
   "outputs": [],
   "source": [
    "import numpy as np\n",
    "\n",
    "def sin_cos (a_d):\n",
    "    a_r = np.radians(a_d)\n",
    "    return np.sin(a_r),np.cos(a_r)"
   ]
  },
  {
   "cell_type": "code",
   "execution_count": 3,
   "id": "fda148a9-e100-4b92-b909-2cc0dff20dfb",
   "metadata": {},
   "outputs": [
    {
     "name": "stdout",
     "output_type": "stream",
     "text": [
      "0.7071067811865475 0.7071067811865476\n"
     ]
    }
   ],
   "source": [
    "x = 45 \n",
    "sin, cos = sin_cos(x)\n",
    "print(sin,cos)"
   ]
  },
  {
   "cell_type": "markdown",
   "id": "c7d97134-85fd-4165-a871-e355c39971fa",
   "metadata": {},
   "source": [
    "### Convert Degrees to Radians"
   ]
  },
  {
   "cell_type": "code",
   "execution_count": 10,
   "id": "acba22af-b4c5-441e-8e8e-6066d91aa71f",
   "metadata": {},
   "outputs": [],
   "source": [
    "def deg_rad(deg):\n",
    "    return deg * np.pi /180 "
   ]
  },
  {
   "cell_type": "code",
   "execution_count": 5,
   "id": "52c496a9-86bf-4b60-ab7a-bcec95d26552",
   "metadata": {},
   "outputs": [
    {
     "data": {
      "text/plain": [
       "3.141592653589793"
      ]
     },
     "execution_count": 5,
     "metadata": {},
     "output_type": "execute_result"
    }
   ],
   "source": [
    "deg_rad(180)"
   ]
  },
  {
   "cell_type": "markdown",
   "id": "abeec0fc-0b12-4a6c-97a4-698abeeca8ce",
   "metadata": {},
   "source": [
    "### Create a 2D Rotation Matrix"
   ]
  },
  {
   "cell_type": "code",
   "execution_count": 9,
   "id": "91fb5fe6-a6e9-4cf8-b710-1ab4d493bf7d",
   "metadata": {},
   "outputs": [],
   "source": [
    "def d_rot(theta):\n",
    "    x = deg_rad(theta)\n",
    "    return np.array([[np.cos(x), -np.sin(x)],\n",
    "               [np.sin(x), np.cos(x)]])"
   ]
  },
  {
   "cell_type": "code",
   "execution_count": 7,
   "id": "f3e814f2-709c-4d10-af58-65177f11bcad",
   "metadata": {},
   "outputs": [
    {
     "name": "stdout",
     "output_type": "stream",
     "text": [
      "[[ 6.123234e-17 -1.000000e+00]\n",
      " [ 1.000000e+00  6.123234e-17]]\n"
     ]
    }
   ],
   "source": [
    "print(d_rot(90))"
   ]
  },
  {
   "cell_type": "markdown",
   "id": "885ff6fc-ee00-4f37-82dd-0620947c49b3",
   "metadata": {},
   "source": [
    "### Implement a function that converts degrees to radians, as numpy functions work with radians."
   ]
  },
  {
   "cell_type": "code",
   "execution_count": 8,
   "id": "499e24ae-7d9e-4da8-ac48-84033460e304",
   "metadata": {},
   "outputs": [],
   "source": [
    "def deg_rad (x):\n",
    "    return np.radians(x)"
   ]
  },
  {
   "cell_type": "code",
   "execution_count": 9,
   "id": "07823d0a-5432-4c4c-8340-b427a54a4d2d",
   "metadata": {},
   "outputs": [
    {
     "name": "stdout",
     "output_type": "stream",
     "text": [
      "3.141592653589793\n"
     ]
    }
   ],
   "source": [
    "x = 180\n",
    "rad = deg_rad(x)\n",
    "print(rad)"
   ]
  },
  {
   "cell_type": "markdown",
   "id": "910dd55d-278f-4935-9914-cc215e4bdef8",
   "metadata": {},
   "source": [
    "## Apply 2D Rotation to a Point"
   ]
  },
  {
   "cell_type": "code",
   "execution_count": 11,
   "id": "b2341995-4097-4ff6-ab41-c7411de87e0d",
   "metadata": {},
   "outputs": [],
   "source": [
    "def rot_point(point, angle):\n",
    "    R = d_rot(angle)\n",
    "    return R @ point \n"
   ]
  },
  {
   "cell_type": "code",
   "execution_count": 12,
   "id": "a0337917-0a19-49f2-99b3-7dfb74803f9b",
   "metadata": {},
   "outputs": [
    {
     "name": "stdout",
     "output_type": "stream",
     "text": [
      "[0.70710678 0.70710678]\n"
     ]
    }
   ],
   "source": [
    "point = np.array([1,0])\n",
    "rotated_point = rot_point(point,45)\n",
    "print(rotated_point)"
   ]
  },
  {
   "cell_type": "markdown",
   "id": "4a4a423d-840f-4967-9131-fef9181dd3e3",
   "metadata": {},
   "source": [
    "### Implement rotation matrices for X, Y, and Z axes separately."
   ]
  },
  {
   "cell_type": "code",
   "execution_count": 36,
   "id": "84f0e918-4ce3-4568-9d3c-3980c9244bd2",
   "metadata": {},
   "outputs": [],
   "source": [
    "def rot_matrix_x(theta):\n",
    "    x = deg_rad(theta)\n",
    "    print(x)\n",
    "    return np.array([[1,0,0],\n",
    "                    [0,np.cos(x),-np.sin(x)],\n",
    "                    [0,np.sin(x),np.cos(x)]])\n",
    "\n",
    "\n",
    "def rot_matrix_y(theta):\n",
    "    x = deg_rad(theta)\n",
    "    return np.array([[np.cos(x),0,np.sin(x)],\n",
    "                     [0,1,0],\n",
    "                     [-np.sin(x),0,np.cos(x)]])\n",
    "\n",
    "def rot_matrix_z(theta):\n",
    "    x = deg_rad(theta)\n",
    "    return np.array([[np.cos(x),-np.sin(x),0],\n",
    "                     [np.sin(x),np.cos(x),0],\n",
    "                     [0,0,1]])"
   ]
  },
  {
   "cell_type": "code",
   "execution_count": 27,
   "id": "8902a908-5f54-41fc-a58a-0176b63cd2b8",
   "metadata": {},
   "outputs": [
    {
     "name": "stdout",
     "output_type": "stream",
     "text": [
      "1.5707963267948966\n",
      "[[ 1.000000e+00  0.000000e+00  0.000000e+00]\n",
      " [ 0.000000e+00  6.123234e-17 -1.000000e+00]\n",
      " [ 0.000000e+00  1.000000e+00  6.123234e-17]]\n"
     ]
    }
   ],
   "source": [
    "print(rot_matrix_x(90))"
   ]
  },
  {
   "cell_type": "code",
   "execution_count": 30,
   "id": "f5d3caca-7a88-478d-be05-e438442e7cfd",
   "metadata": {},
   "outputs": [
    {
     "name": "stdout",
     "output_type": "stream",
     "text": [
      "[[ 6.123234e-17  0.000000e+00  1.000000e+00]\n",
      " [ 0.000000e+00  1.000000e+00  0.000000e+00]\n",
      " [-1.000000e+00  0.000000e+00  6.123234e-17]]\n"
     ]
    }
   ],
   "source": [
    "print(rot_matrix_y(90))"
   ]
  },
  {
   "cell_type": "code",
   "execution_count": 31,
   "id": "c6f83961-45fd-45e5-b610-7eb238730db1",
   "metadata": {},
   "outputs": [
    {
     "name": "stdout",
     "output_type": "stream",
     "text": [
      "[[ 6.123234e-17 -1.000000e+00  0.000000e+00]\n",
      " [ 1.000000e+00  6.123234e-17  0.000000e+00]\n",
      " [ 0.000000e+00  0.000000e+00  1.000000e+00]]\n"
     ]
    }
   ],
   "source": [
    "print(rot_matrix_z(90))"
   ]
  },
  {
   "cell_type": "markdown",
   "id": "a5222063-95eb-4185-a0c8-c11b50874406",
   "metadata": {
    "jp-MarkdownHeadingCollapsed": true
   },
   "source": [
    "# Applying 3D Rotations "
   ]
  },
  {
   "cell_type": "markdown",
   "id": "21de8e26-c265-478f-950d-d1bc87ca169e",
   "metadata": {},
   "source": [
    "### Rotate a 3D vector using a given rotation matrix."
   ]
  },
  {
   "cell_type": "code",
   "execution_count": 37,
   "id": "25f9907e-63ac-44ec-b597-3215bdfef968",
   "metadata": {},
   "outputs": [],
   "source": [
    "vector = np.array([1,0,0])\n"
   ]
  },
  {
   "cell_type": "code",
   "execution_count": 44,
   "id": "02cec0e4-f65d-46e9-ae59-a2d025e1947b",
   "metadata": {},
   "outputs": [
    {
     "name": "stdout",
     "output_type": "stream",
     "text": [
      "[ 6.123234e-17  0.000000e+00 -1.000000e+00]\n"
     ]
    }
   ],
   "source": [
    "r_v_y = rot_matrix_y(90) @ vector \n",
    "print(r_v_y)"
   ]
  },
  {
   "cell_type": "code",
   "execution_count": 54,
   "id": "4c242b43-b10c-460d-9534-09b6a12c90e1",
   "metadata": {},
   "outputs": [
    {
     "name": "stdout",
     "output_type": "stream",
     "text": [
      "0.0\n",
      "[[ 1.  0.  0.]\n",
      " [ 0.  1. -0.]\n",
      " [ 0.  0.  1.]]\n"
     ]
    }
   ],
   "source": [
    "Rx_0 = rot_matrix_x(0)\n",
    "Ry_0 = rot_matrix_y(0)\n",
    "Rz_0 = rot_matrix_z(0)\n",
    "print(Rx_0)"
   ]
  },
  {
   "cell_type": "code",
   "execution_count": 55,
   "id": "30d5489f-3e83-4614-bcc8-e52d60d1df64",
   "metadata": {},
   "outputs": [
    {
     "name": "stdout",
     "output_type": "stream",
     "text": [
      "[[ 1.  0.  0.]\n",
      " [ 0.  1.  0.]\n",
      " [-0.  0.  1.]]\n"
     ]
    }
   ],
   "source": [
    "print(Ry_0)"
   ]
  },
  {
   "cell_type": "code",
   "execution_count": 56,
   "id": "3303602e-f2cf-4fa7-9fe1-74c772ee4364",
   "metadata": {},
   "outputs": [
    {
     "name": "stdout",
     "output_type": "stream",
     "text": [
      "[[ 1. -0.  0.]\n",
      " [ 0.  1.  0.]\n",
      " [ 0.  0.  1.]]\n"
     ]
    }
   ],
   "source": [
    "print(Rz_0)"
   ]
  },
  {
   "cell_type": "code",
   "execution_count": 66,
   "id": "e018acd2-fd87-4745-9033-5ea9d6dfceb5",
   "metadata": {},
   "outputs": [
    {
     "name": "stdout",
     "output_type": "stream",
     "text": [
      "[[ 0.17647059 -0.00326797 -0.02287582]\n",
      " [ 0.05882353 -0.13071895  0.08496732]\n",
      " [-0.11764706  0.1503268   0.05228758]]\n",
      "[[ 6  4  2]\n",
      " [ 1 -2  8]\n",
      " [ 1  5  7]]\n"
     ]
    }
   ],
   "source": [
    "# Import required package\n",
    "import numpy as np\n",
    "\n",
    "# Taking a 3 * 3 matrix\n",
    "A = np.array([[6, 1, 1],\n",
    "\t\t\t[4, -2, 5],\n",
    "\t\t\t[2, 8, 7]])\n",
    "\n",
    "# Calculating the inverse of the matrix\n",
    "A_Inv = np.linalg.inv(A)\n",
    "\n",
    "# Calculate transpose \n",
    "A_ts = A.transpose()\n",
    "\n",
    "print(A_Inv)\n",
    "print(A_ts)"
   ]
  },
  {
   "cell_type": "markdown",
   "id": "c396a1f3-855f-4237-baac-02e851b211d8",
   "metadata": {
    "jp-MarkdownHeadingCollapsed": true
   },
   "source": [
    "# Homogenous Transformation Matrices"
   ]
  },
  {
   "cell_type": "code",
   "execution_count": 71,
   "id": "c7bc98cf-b877-43f3-bf64-e7ea6638eb87",
   "metadata": {},
   "outputs": [],
   "source": [
    "I = np.eye(4)"
   ]
  },
  {
   "cell_type": "code",
   "execution_count": 72,
   "id": "627511bf-979a-4715-a9b2-df4981f19ded",
   "metadata": {},
   "outputs": [
    {
     "name": "stdout",
     "output_type": "stream",
     "text": [
      "[[1. 0. 0. 0.]\n",
      " [0. 1. 0. 0.]\n",
      " [0. 0. 1. 0.]\n",
      " [0. 0. 0. 1.]]\n"
     ]
    }
   ],
   "source": [
    "print(I)"
   ]
  },
  {
   "cell_type": "code",
   "execution_count": 73,
   "id": "1e35c16d-766c-4505-992b-292f256d7787",
   "metadata": {},
   "outputs": [
    {
     "name": "stdout",
     "output_type": "stream",
     "text": [
      "Translation Matrix:\n",
      " [[1. 0. 0. 1.]\n",
      " [0. 1. 0. 2.]\n",
      " [0. 0. 1. 3.]\n",
      " [0. 0. 0. 1.]]\n"
     ]
    }
   ],
   "source": [
    "def translation_matrix(x, y, z):\n",
    "    T = np.eye(4)  # Start with identity\n",
    "    T[:3, 3] = [x, y, z]  # Set translation part\n",
    "    return T\n",
    "\n",
    "# Example usage\n",
    "T = translation_matrix(1, 2, 3)\n",
    "print(\"Translation Matrix:\\n\", T)\n"
   ]
  },
  {
   "cell_type": "code",
   "execution_count": 74,
   "id": "3ecb6c52-d96f-48b7-886d-a851e9c59bea",
   "metadata": {},
   "outputs": [
    {
     "name": "stdout",
     "output_type": "stream",
     "text": [
      "Homogeneous Transformation Matrix:\n",
      " [[1. 0. 0. 0.]\n",
      " [0. 1. 0. 0.]\n",
      " [0. 0. 1. 0.]\n",
      " [0. 0. 0. 1.]]\n"
     ]
    }
   ],
   "source": [
    "def homogeneous_from_rotation(R):\n",
    "    T = np.eye(4)\n",
    "    T[:3, :3] = R  # Insert rotation part\n",
    "    return T\n",
    "\n",
    "# Example with an identity rotation matrix\n",
    "R = np.eye(3)\n",
    "T = homogeneous_from_rotation(R)\n",
    "print(\"Homogeneous Transformation Matrix:\\n\", T)\n"
   ]
  },
  {
   "cell_type": "code",
   "execution_count": null,
   "id": "f04b757e-2a36-428f-bdc5-389a30382f32",
   "metadata": {},
   "outputs": [],
   "source": []
  }
 ],
 "metadata": {
  "kernelspec": {
   "display_name": "Python 3 (ipykernel)",
   "language": "python",
   "name": "python3"
  },
  "language_info": {
   "codemirror_mode": {
    "name": "ipython",
    "version": 3
   },
   "file_extension": ".py",
   "mimetype": "text/x-python",
   "name": "python",
   "nbconvert_exporter": "python",
   "pygments_lexer": "ipython3",
   "version": "3.12.2"
  }
 },
 "nbformat": 4,
 "nbformat_minor": 5
}
